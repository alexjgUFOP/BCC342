{
  "nbformat": 4,
  "nbformat_minor": 0,
  "metadata": {
    "colab": {
      "name": "BCC342-lista05-exercicio10-17.2.1471.ipynb",
      "provenance": [],
      "collapsed_sections": [],
      "toc_visible": true,
      "authorship_tag": "ABX9TyMRerxjZbjLKlR5aAjDDM22",
      "include_colab_link": true
    },
    "kernelspec": {
      "name": "python3",
      "display_name": "Python 3"
    }
  },
  "cells": [
    {
      "cell_type": "markdown",
      "metadata": {
        "id": "view-in-github",
        "colab_type": "text"
      },
      "source": [
        "<a href=\"https://colab.research.google.com/github/alexjgUFOP/BCC342-introducao-a-otimizacao/blob/main/BCC342_lista05_exercicio10_17_2_1471.ipynb\" target=\"_parent\"><img src=\"https://colab.research.google.com/assets/colab-badge.svg\" alt=\"Open In Colab\"/></a>"
      ]
    },
    {
      "cell_type": "markdown",
      "metadata": {
        "id": "wsY8MB9POS_Y"
      },
      "source": [
        "### Instalação da lib MIP \n",
        "\n",
        "\n"
      ]
    },
    {
      "cell_type": "code",
      "metadata": {
        "colab": {
          "base_uri": "https://localhost:8080/"
        },
        "id": "5yjYnZ3nOd6H",
        "outputId": "a9f31b10-ffc3-4729-f158-6a1cc0b8c52f"
      },
      "source": [
        "!pip install mip"
      ],
      "execution_count": null,
      "outputs": [
        {
          "output_type": "stream",
          "text": [
            "Collecting mip\n",
            "  Downloading mip-1.13.0-py3-none-any.whl (48.0 MB)\n",
            "\u001b[K     |████████████████████████████████| 48.0 MB 52 kB/s \n",
            "\u001b[?25hRequirement already satisfied: cffi in /usr/local/lib/python3.7/dist-packages (from mip) (1.14.6)\n",
            "Requirement already satisfied: pycparser in /usr/local/lib/python3.7/dist-packages (from cffi->mip) (2.20)\n",
            "Installing collected packages: mip\n",
            "Successfully installed mip-1.13.0\n"
          ],
          "name": "stdout"
        }
      ]
    },
    {
      "cell_type": "code",
      "metadata": {
        "id": "gEc8-MR_O3U6"
      },
      "source": [
        "#importando lib's\n",
        "from mip import Model, xsum, INTEGER, MAXIMIZE, MINIMIZE"
      ],
      "execution_count": null,
      "outputs": []
    },
    {
      "cell_type": "markdown",
      "metadata": {
        "id": "Y5eSogHCjKY_"
      },
      "source": [
        "### 10) Custo de Transporte: algoritmo\n",
        "\n",
        "\n"
      ]
    },
    {
      "cell_type": "code",
      "metadata": {
        "id": "m-yB2b1bktD3"
      },
      "source": [
        "#custo de transporte entre fabrica e armazens\n",
        "  # F1 nao envia para A4 e F2 nao envia para A1\n",
        "cost = [[40,50,55,9999999999],\n",
        "        [999999999,60,30,50]]\n",
        "\n",
        "#declaracao do modelo\n",
        "m = Model('Transporte',sense = MINIMIZE)"
      ],
      "execution_count": null,
      "outputs": []
    },
    {
      "cell_type": "code",
      "metadata": {
        "id": "BdT1wfBUmMM0"
      },
      "source": [
        "# definicao da variavel de decisao Xij\n",
        "x = [[m.add_var(var_type=INTEGER, lb=0) for j in range(4)] for i in range(2)]"
      ],
      "execution_count": null,
      "outputs": []
    },
    {
      "cell_type": "code",
      "metadata": {
        "id": "KluNOFZcpwb9"
      },
      "source": [
        "# definicao da funcao objetivo\n",
        "m.objective = xsum(cost[i][j] * x[i][j] for i in range(2) for j in range(4))"
      ],
      "execution_count": null,
      "outputs": []
    },
    {
      "cell_type": "code",
      "metadata": {
        "id": "lIyxG8yuqi4Y"
      },
      "source": [
        "# definicao das restricoes\n",
        "\n",
        "# restricao de envio\n",
        "m += x[0][3] == 0\n",
        "m += x[1][0] == 0\n",
        "# restricao de capacidade produtiva\n",
        "  # Obs.: = 6000 e 9000 porque caso contrario a sol. otima = 0\n",
        "m += xsum(x[0][j] for j in range(4)) == 6000\n",
        "m += xsum(x[1][j] for j in range(4)) == 9000\n",
        "# restricao de capacidade de armazenamento\n",
        "m += x[0][0] <= 2500\n",
        "m += xsum(x[i][1] for i in range(2)) <= 4500\n",
        "m += xsum(x[i][2] for i in range(2)) <= 5500\n",
        "m += x[1][3] <= 3500"
      ],
      "execution_count": null,
      "outputs": []
    },
    {
      "cell_type": "code",
      "metadata": {
        "colab": {
          "base_uri": "https://localhost:8080/"
        },
        "id": "PdeAucHPt39P",
        "outputId": "e28d13fe-5cfe-4f7d-a801-1b57b160f9a7"
      },
      "source": [
        "# otimizacao do modelo\n",
        "m.optimize()"
      ],
      "execution_count": null,
      "outputs": [
        {
          "output_type": "execute_result",
          "data": {
            "text/plain": [
              "<OptimizationStatus.OPTIMAL: 0>"
            ]
          },
          "metadata": {
            "tags": []
          },
          "execution_count": 19
        }
      ]
    },
    {
      "cell_type": "code",
      "metadata": {
        "colab": {
          "base_uri": "https://localhost:8080/"
        },
        "id": "egjq4LYSt729",
        "outputId": "b37c736d-fec7-4dca-d993-69d75dc121af"
      },
      "source": [
        "# impressao dos resultados\n",
        "print('Optimal Solution: {}'.format([x[i][j].x for i in range(2) for j in range(4)]))"
      ],
      "execution_count": null,
      "outputs": [
        {
          "output_type": "stream",
          "text": [
            "Optimal Solution: [2500.0, 3500.0, 0.0, 0.0, 0.0, 0.0, 5500.0, 3500.0]\n"
          ],
          "name": "stdout"
        }
      ]
    },
    {
      "cell_type": "code",
      "metadata": {
        "id": "QcL8yojfc7um"
      },
      "source": [
        "# restricoes do modelo\n",
        "\n",
        "# restricao de producao\n",
        "m += x[0] <= g_producao[0]\n",
        "m += x[1] <= g_producao[1]\n",
        "# restricao de relacao de variaveis pela equacao de foco em manga curta\n",
        "m += xsum(g_dcurta[i]*x[i] for i in range(nvars)) == g_mcurta"
      ],
      "execution_count": null,
      "outputs": []
    },
    {
      "cell_type": "code",
      "metadata": {
        "colab": {
          "base_uri": "https://localhost:8080/"
        },
        "id": "apQRWyPVfsrd",
        "outputId": "d059978e-b7b6-45a1-8691-30a1cbe9b882"
      },
      "source": [
        "# otimizando o modelo\n",
        "m.optimize()"
      ],
      "execution_count": null,
      "outputs": [
        {
          "output_type": "execute_result",
          "data": {
            "text/plain": [
              "<OptimizationStatus.OPTIMAL: 0>"
            ]
          },
          "metadata": {
            "tags": []
          },
          "execution_count": 55
        }
      ]
    },
    {
      "cell_type": "code",
      "metadata": {
        "colab": {
          "base_uri": "https://localhost:8080/"
        },
        "id": "0xsD1AQlfwUP",
        "outputId": "ef285f7b-a664-4da5-8455-c79c1890f1da"
      },
      "source": [
        "print('Optimal Solution: x{}'.format([x[i].x for i in range(nvars)]))"
      ],
      "execution_count": null,
      "outputs": [
        {
          "output_type": "stream",
          "text": [
            "Optimal Solution: x[68.0, 298.0]\n"
          ],
          "name": "stdout"
        }
      ]
    }
  ]
}